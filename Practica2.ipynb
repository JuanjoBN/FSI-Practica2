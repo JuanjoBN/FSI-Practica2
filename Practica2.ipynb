{
  "nbformat": 4,
  "nbformat_minor": 0,
  "metadata": {
    "colab": {
      "name": "Practica2.ipynb",
      "version": "0.3.2",
      "provenance": [],
      "collapsed_sections": []
    },
    "kernelspec": {
      "name": "python3",
      "display_name": "Python 3"
    },
    "accelerator": "GPU"
  },
  "cells": [
    {
      "cell_type": "code",
      "metadata": {
        "id": "LQLsee4eWGfS",
        "colab_type": "code",
        "outputId": "5692583f-5fcc-4066-9187-9cf40754ef5e",
        "colab": {
          "base_uri": "https://localhost:8080/",
          "height": 34
        }
      },
      "source": [
        "from google.colab import drive\n",
        "drive.mount('/content/drive')"
      ],
      "execution_count": 10,
      "outputs": [
        {
          "output_type": "stream",
          "text": [
            "Drive already mounted at /content/drive; to attempt to forcibly remount, call drive.mount(\"/content/drive\", force_remount=True).\n"
          ],
          "name": "stdout"
        }
      ]
    },
    {
      "cell_type": "markdown",
      "metadata": {
        "id": "5rXleROaXAA7",
        "colab_type": "text"
      },
      "source": [
        "Ahora ya es accesible"
      ]
    },
    {
      "cell_type": "code",
      "metadata": {
        "id": "wveggvKwXGiZ",
        "colab_type": "code",
        "outputId": "00f321b5-7d34-402f-ea71-fe5bf14d6d62",
        "colab": {
          "base_uri": "https://localhost:8080/",
          "height": 34
        }
      },
      "source": [
        "import tensorflow as tf\n",
        "tf.test.gpu_device_name()"
      ],
      "execution_count": 0,
      "outputs": [
        {
          "output_type": "execute_result",
          "data": {
            "text/plain": [
              "'/device:GPU:0'"
            ]
          },
          "metadata": {
            "tags": []
          },
          "execution_count": 1
        }
      ]
    },
    {
      "cell_type": "markdown",
      "metadata": {
        "id": "He216291X-VJ",
        "colab_type": "text"
      },
      "source": [
        "# **Primer modelo:**"
      ]
    },
    {
      "cell_type": "code",
      "metadata": {
        "id": "lBYTE0YwZO-p",
        "colab_type": "code",
        "outputId": "7fcc9b1f-d014-416e-95ae-f4b2a4b3782f",
        "colab": {
          "base_uri": "https://localhost:8080/",
          "height": 403
        }
      },
      "source": [
        "from keras.preprocessing.image import ImageDataGenerator\n",
        "from keras.models import Sequential\n",
        "from keras.layers import Dense, Dropout\n",
        "from keras.optimizers import RMSprop\n",
        "from keras.layers import Dense, Dropout, Flatten\n",
        "from keras.layers import Conv2D, MaxPooling2D\n",
        "from keras import backend as K\n",
        "import keras\n",
        "from time import time\n",
        "\n",
        "\n",
        "# DATA SOURCE --------------------------------------------------\n",
        "batch_size = 30  \n",
        "\n",
        "train_data_dir = '/content/drive/My Drive/Colab Notebooks/datasets/Lego/train'  \n",
        "validation_data_dir = '/content/drive/My Drive/Colab Notebooks/datasets/Lego/valid'\n",
        "\n",
        "train_datagen = ImageDataGenerator(    \n",
        "        rescale=1./255, \n",
        "        shear_range=0.2,  \n",
        "        zoom_range=0.2,  \n",
        "        horizontal_flip=True) \n",
        "\n",
        "test_datagen = ImageDataGenerator(rescale=1./255)\n",
        "\n",
        "train_generator = train_datagen.flow_from_directory( \n",
        "        train_data_dir,\n",
        "        target_size=(150, 150), \n",
        "        batch_size=batch_size,  \n",
        "        class_mode='categorical') \n",
        "\n",
        "validation_generator = test_datagen.flow_from_directory(  \n",
        "        validation_data_dir,\n",
        "        target_size=(150, 150),\n",
        "        batch_size=32,\n",
        "        class_mode='categorical')\n",
        "\n",
        "\n",
        "# MODEL --------------------------------------------------\n",
        "\n",
        "model = Sequential()\n",
        "\n",
        "model.add(Conv2D(32, kernel_size=(3, 3),  \n",
        "                 activation='relu',\n",
        "                 input_shape=(150, 150, 3)))\n",
        "model.add(MaxPooling2D(pool_size=(2, 2)))\n",
        "model.add(Conv2D(64, (3, 3), activation='relu'))\n",
        "model.add(MaxPooling2D(pool_size=(2, 2))) \n",
        "model.add(Dropout(0.25)) \n",
        "model.add(Flatten()) \n",
        "model.add(Dense(128, activation='relu'))\n",
        "model.add(Dropout(0.5)) \n",
        "\n",
        "model.add(Dense(16, activation='softmax')) \n",
        "\n",
        "model.compile(loss=keras.losses.categorical_crossentropy,  \n",
        "              optimizer=keras.optimizers.Adadelta(),  \n",
        "              metrics=['accuracy'])  \n",
        "\n",
        "# TRAINING --------------------------------------------------\n",
        "\n",
        "epochs = 10  \n",
        "\n",
        "model.fit_generator(\n",
        "        train_generator,\n",
        "        steps_per_epoch=100,\n",
        "        epochs=epochs, \n",
        "        validation_data=validation_generator,  \n",
        "        validation_steps=800,\n",
        ")\n"
      ],
      "execution_count": 11,
      "outputs": [
        {
          "output_type": "stream",
          "text": [
            "Found 6389 images belonging to 16 classes.\n",
            "Found 6389 images belonging to 16 classes.\n",
            "Epoch 1/10\n",
            "100/100 [==============================] - 655s 7s/step - loss: 2.0494 - acc: 0.3193 - val_loss: 1.1375 - val_acc: 0.6663\n",
            "Epoch 2/10\n",
            "100/100 [==============================] - 365s 4s/step - loss: 1.5724 - acc: 0.4520 - val_loss: 0.9121 - val_acc: 0.6871\n",
            "Epoch 3/10\n",
            "100/100 [==============================] - 121s 1s/step - loss: 1.4010 - acc: 0.5077 - val_loss: 0.8290 - val_acc: 0.7334\n",
            "Epoch 4/10\n",
            "100/100 [==============================] - 120s 1s/step - loss: 1.2859 - acc: 0.5447 - val_loss: 0.7618 - val_acc: 0.7289\n",
            "Epoch 5/10\n",
            "100/100 [==============================] - 117s 1s/step - loss: 1.1809 - acc: 0.5909 - val_loss: 0.6833 - val_acc: 0.7599\n",
            "Epoch 6/10\n",
            "100/100 [==============================] - 119s 1s/step - loss: 1.1690 - acc: 0.5893 - val_loss: 0.6443 - val_acc: 0.7870\n",
            "Epoch 7/10\n",
            "100/100 [==============================] - 119s 1s/step - loss: 1.1051 - acc: 0.6072 - val_loss: 0.5868 - val_acc: 0.7978\n",
            "Epoch 8/10\n",
            "100/100 [==============================] - 118s 1s/step - loss: 1.0322 - acc: 0.6360 - val_loss: 0.5639 - val_acc: 0.7962\n",
            "Epoch 9/10\n",
            "100/100 [==============================] - 119s 1s/step - loss: 0.9674 - acc: 0.6438 - val_loss: 0.5042 - val_acc: 0.8247\n",
            "Epoch 10/10\n",
            "100/100 [==============================] - 118s 1s/step - loss: 0.9754 - acc: 0.6447 - val_loss: 0.4728 - val_acc: 0.8524\n"
          ],
          "name": "stdout"
        },
        {
          "output_type": "execute_result",
          "data": {
            "text/plain": [
              "<keras.callbacks.History at 0x7fa74d18ee80>"
            ]
          },
          "metadata": {
            "tags": []
          },
          "execution_count": 11
        }
      ]
    }
  ]
}